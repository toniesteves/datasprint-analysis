{
 "cells": [
  {
   "cell_type": "markdown",
   "metadata": {},
   "source": [
    "#  **Load Libraries**"
   ]
  },
  {
   "cell_type": "code",
   "execution_count": 1,
   "metadata": {},
   "outputs": [],
   "source": [
    "import matplotlib.pyplot as plt\n",
    "import numpy as np\n",
    "import pandas as pd\n",
    "import descartes\n",
    "import geopandas as gpd\n",
    "from shapely.geometry import Point, Polygon\n",
    "import seaborn as sns; \n",
    "sns.set(style=\"whitegrid\")\n",
    "import warnings\n",
    "warnings.filterwarnings(\"ignore\")"
   ]
  },
  {
   "cell_type": "markdown",
   "metadata": {},
   "source": [
    "#  **Load Data**"
   ]
  },
  {
   "cell_type": "code",
   "execution_count": 90,
   "metadata": {},
   "outputs": [],
   "source": [
    "data_2009 = pd.read_json('data/data-sample_data-nyctaxi-trips-2009-json_corrigido.json', lines=True)\n",
    "data_2009 = pd.DataFrame(data_2009)"
   ]
  },
  {
   "cell_type": "code",
   "execution_count": 91,
   "metadata": {},
   "outputs": [],
   "source": [
    "data_2010 = pd.read_json('data/data-sample_data-nyctaxi-trips-2010-json_corrigido.json', lines=True)\n",
    "data_2010 = pd.DataFrame(data_2010)"
   ]
  },
  {
   "cell_type": "code",
   "execution_count": 92,
   "metadata": {},
   "outputs": [],
   "source": [
    "data_2011 = pd.read_json('data/data-sample_data-nyctaxi-trips-2011-json_corrigido.json', lines=True)\n",
    "data_2011 = pd.DataFrame(data_2011)"
   ]
  },
  {
   "cell_type": "code",
   "execution_count": 93,
   "metadata": {},
   "outputs": [],
   "source": [
    "data_2012 = pd.read_json('data/data-sample_data-nyctaxi-trips-2012-json_corrigido.json', lines=True)\n",
    "data_2012 = pd.DataFrame(data_2012)"
   ]
  },
  {
   "cell_type": "markdown",
   "metadata": {},
   "source": [
    "### **Group Datasets**"
   ]
  },
  {
   "cell_type": "code",
   "execution_count": 94,
   "metadata": {},
   "outputs": [],
   "source": [
    "data = pd.concat([data_2009, data_2010, data_2011, data_2012], axis=0)"
   ]
  },
  {
   "cell_type": "code",
   "execution_count": 95,
   "metadata": {},
   "outputs": [
    {
     "data": {
      "text/plain": [
       "(4000000, 17)"
      ]
     },
     "execution_count": 95,
     "metadata": {},
     "output_type": "execute_result"
    }
   ],
   "source": [
    "data.shape"
   ]
  },
  {
   "cell_type": "code",
   "execution_count": 96,
   "metadata": {},
   "outputs": [],
   "source": [
    "data.to_csv('data/full_taxi_trips_data.csv', index=False)"
   ]
  },
  {
   "cell_type": "markdown",
   "metadata": {},
   "source": [
    "## Load Main Dataset"
   ]
  },
  {
   "cell_type": "code",
   "execution_count": 2,
   "metadata": {},
   "outputs": [],
   "source": [
    "taxi_trips = pd.read_csv('data/full_taxi_trips_data.csv')"
   ]
  },
  {
   "cell_type": "markdown",
   "metadata": {},
   "source": [
    "# **Initial Data Analysis**"
   ]
  },
  {
   "cell_type": "markdown",
   "metadata": {},
   "source": [
    "## **Missing values**"
   ]
  },
  {
   "cell_type": "code",
   "execution_count": 3,
   "metadata": {},
   "outputs": [],
   "source": [
    "taxi_trips.drop(['rate_code', 'store_and_fwd_flag'], axis=1, inplace=True)"
   ]
  },
  {
   "cell_type": "markdown",
   "metadata": {},
   "source": [
    "## **Null Values**"
   ]
  },
  {
   "cell_type": "code",
   "execution_count": 4,
   "metadata": {},
   "outputs": [
    {
     "data": {
      "text/plain": [
       "vendor_id            False\n",
       "pickup_datetime      False\n",
       "dropoff_datetime     False\n",
       "passenger_count      False\n",
       "trip_distance        False\n",
       "pickup_longitude     False\n",
       "pickup_latitude      False\n",
       "dropoff_longitude    False\n",
       "dropoff_latitude     False\n",
       "payment_type         False\n",
       "fare_amount          False\n",
       "surcharge            False\n",
       "tip_amount           False\n",
       "tolls_amount         False\n",
       "total_amount         False\n",
       "dtype: bool"
      ]
     },
     "execution_count": 4,
     "metadata": {},
     "output_type": "execute_result"
    }
   ],
   "source": [
    "taxi_trips.isnull().any()"
   ]
  },
  {
   "cell_type": "code",
   "execution_count": 5,
   "metadata": {},
   "outputs": [
    {
     "name": "stdout",
     "output_type": "stream",
     "text": [
      "<class 'pandas.core.frame.DataFrame'>\n",
      "RangeIndex: 4000000 entries, 0 to 3999999\n",
      "Data columns (total 15 columns):\n",
      "vendor_id            object\n",
      "pickup_datetime      object\n",
      "dropoff_datetime     object\n",
      "passenger_count      int64\n",
      "trip_distance        float64\n",
      "pickup_longitude     float64\n",
      "pickup_latitude      float64\n",
      "dropoff_longitude    float64\n",
      "dropoff_latitude     float64\n",
      "payment_type         object\n",
      "fare_amount          float64\n",
      "surcharge            float64\n",
      "tip_amount           float64\n",
      "tolls_amount         float64\n",
      "total_amount         float64\n",
      "dtypes: float64(10), int64(1), object(4)\n",
      "memory usage: 457.8+ MB\n"
     ]
    }
   ],
   "source": [
    "taxi_trips.info()"
   ]
  },
  {
   "cell_type": "markdown",
   "metadata": {},
   "source": [
    "# **Exploratory Data Analysis**"
   ]
  },
  {
   "cell_type": "code",
   "execution_count": 10,
   "metadata": {},
   "outputs": [
    {
     "data": {
      "text/html": [
       "<div>\n",
       "<style scoped>\n",
       "    .dataframe tbody tr th:only-of-type {\n",
       "        vertical-align: middle;\n",
       "    }\n",
       "\n",
       "    .dataframe tbody tr th {\n",
       "        vertical-align: top;\n",
       "    }\n",
       "\n",
       "    .dataframe thead th {\n",
       "        text-align: right;\n",
       "    }\n",
       "</style>\n",
       "<table border=\"1\" class=\"dataframe\">\n",
       "  <thead>\n",
       "    <tr style=\"text-align: right;\">\n",
       "      <th></th>\n",
       "      <th>vendor_id</th>\n",
       "      <th>pickup_datetime</th>\n",
       "      <th>dropoff_datetime</th>\n",
       "      <th>passenger_count</th>\n",
       "      <th>trip_distance</th>\n",
       "      <th>pickup_longitude</th>\n",
       "      <th>pickup_latitude</th>\n",
       "      <th>dropoff_longitude</th>\n",
       "      <th>dropoff_latitude</th>\n",
       "      <th>payment_type</th>\n",
       "      <th>fare_amount</th>\n",
       "      <th>surcharge</th>\n",
       "      <th>tip_amount</th>\n",
       "      <th>tolls_amount</th>\n",
       "      <th>total_amount</th>\n",
       "    </tr>\n",
       "  </thead>\n",
       "  <tbody>\n",
       "    <tr>\n",
       "      <th>0</th>\n",
       "      <td>CMT</td>\n",
       "      <td>2009-04-21T18:51:11.767205+00:00</td>\n",
       "      <td>2009-04-21T18:57:09.433767+00:00</td>\n",
       "      <td>2</td>\n",
       "      <td>0.80</td>\n",
       "      <td>-74.004114</td>\n",
       "      <td>40.742950</td>\n",
       "      <td>-73.994712</td>\n",
       "      <td>40.747950</td>\n",
       "      <td>Cash</td>\n",
       "      <td>5.4</td>\n",
       "      <td>0.0</td>\n",
       "      <td>0.0</td>\n",
       "      <td>0.0</td>\n",
       "      <td>5.4</td>\n",
       "    </tr>\n",
       "    <tr>\n",
       "      <th>1</th>\n",
       "      <td>CMT</td>\n",
       "      <td>2009-01-13T07:40:07.639754+00:00</td>\n",
       "      <td>2009-01-13T07:50:36.386011+00:00</td>\n",
       "      <td>1</td>\n",
       "      <td>5.40</td>\n",
       "      <td>-73.996506</td>\n",
       "      <td>40.747784</td>\n",
       "      <td>-73.940449</td>\n",
       "      <td>40.792385</td>\n",
       "      <td>Cash</td>\n",
       "      <td>15.4</td>\n",
       "      <td>0.0</td>\n",
       "      <td>0.0</td>\n",
       "      <td>0.0</td>\n",
       "      <td>15.4</td>\n",
       "    </tr>\n",
       "    <tr>\n",
       "      <th>2</th>\n",
       "      <td>VTS</td>\n",
       "      <td>2009-01-06T19:30:44.142187+00:00</td>\n",
       "      <td>2009-01-06T19:43:09.908429+00:00</td>\n",
       "      <td>5</td>\n",
       "      <td>1.67</td>\n",
       "      <td>-73.951340</td>\n",
       "      <td>40.752070</td>\n",
       "      <td>-73.944535</td>\n",
       "      <td>40.768108</td>\n",
       "      <td>CASH</td>\n",
       "      <td>6.1</td>\n",
       "      <td>1.0</td>\n",
       "      <td>0.0</td>\n",
       "      <td>0.0</td>\n",
       "      <td>7.1</td>\n",
       "    </tr>\n",
       "    <tr>\n",
       "      <th>3</th>\n",
       "      <td>VTS</td>\n",
       "      <td>2009-09-24T08:28:09.004451+00:00</td>\n",
       "      <td>2009-09-24T08:41:56.739991+00:00</td>\n",
       "      <td>1</td>\n",
       "      <td>4.13</td>\n",
       "      <td>-74.001117</td>\n",
       "      <td>40.729128</td>\n",
       "      <td>-73.958122</td>\n",
       "      <td>40.721812</td>\n",
       "      <td>CASH</td>\n",
       "      <td>12.9</td>\n",
       "      <td>0.5</td>\n",
       "      <td>0.0</td>\n",
       "      <td>0.0</td>\n",
       "      <td>13.4</td>\n",
       "    </tr>\n",
       "    <tr>\n",
       "      <th>4</th>\n",
       "      <td>VTS</td>\n",
       "      <td>2009-10-29T05:50:39.214629+00:00</td>\n",
       "      <td>2009-10-29T05:57:22.880174+00:00</td>\n",
       "      <td>1</td>\n",
       "      <td>2.03</td>\n",
       "      <td>-73.976600</td>\n",
       "      <td>40.756873</td>\n",
       "      <td>-73.979757</td>\n",
       "      <td>40.776075</td>\n",
       "      <td>CASH</td>\n",
       "      <td>7.7</td>\n",
       "      <td>0.5</td>\n",
       "      <td>0.0</td>\n",
       "      <td>0.0</td>\n",
       "      <td>8.2</td>\n",
       "    </tr>\n",
       "  </tbody>\n",
       "</table>\n",
       "</div>"
      ],
      "text/plain": [
       "  vendor_id                   pickup_datetime  \\\n",
       "0       CMT  2009-04-21T18:51:11.767205+00:00   \n",
       "1       CMT  2009-01-13T07:40:07.639754+00:00   \n",
       "2       VTS  2009-01-06T19:30:44.142187+00:00   \n",
       "3       VTS  2009-09-24T08:28:09.004451+00:00   \n",
       "4       VTS  2009-10-29T05:50:39.214629+00:00   \n",
       "\n",
       "                   dropoff_datetime  passenger_count  trip_distance  \\\n",
       "0  2009-04-21T18:57:09.433767+00:00                2           0.80   \n",
       "1  2009-01-13T07:50:36.386011+00:00                1           5.40   \n",
       "2  2009-01-06T19:43:09.908429+00:00                5           1.67   \n",
       "3  2009-09-24T08:41:56.739991+00:00                1           4.13   \n",
       "4  2009-10-29T05:57:22.880174+00:00                1           2.03   \n",
       "\n",
       "   pickup_longitude  pickup_latitude  dropoff_longitude  dropoff_latitude  \\\n",
       "0        -74.004114        40.742950         -73.994712         40.747950   \n",
       "1        -73.996506        40.747784         -73.940449         40.792385   \n",
       "2        -73.951340        40.752070         -73.944535         40.768108   \n",
       "3        -74.001117        40.729128         -73.958122         40.721812   \n",
       "4        -73.976600        40.756873         -73.979757         40.776075   \n",
       "\n",
       "  payment_type  fare_amount  surcharge  tip_amount  tolls_amount  total_amount  \n",
       "0         Cash          5.4        0.0         0.0           0.0           5.4  \n",
       "1         Cash         15.4        0.0         0.0           0.0          15.4  \n",
       "2         CASH          6.1        1.0         0.0           0.0           7.1  \n",
       "3         CASH         12.9        0.5         0.0           0.0          13.4  \n",
       "4         CASH          7.7        0.5         0.0           0.0           8.2  "
      ]
     },
     "execution_count": 10,
     "metadata": {},
     "output_type": "execute_result"
    }
   ],
   "source": [
    "taxi_trips.head()"
   ]
  },
  {
   "cell_type": "code",
   "execution_count": 7,
   "metadata": {},
   "outputs": [],
   "source": [
    "# corr = data.corr(method='spearman')\n",
    "# mask = np.zeros_like(corr)\n",
    "# mask[np.triu_indices_from(mask)] = True\n",
    "# fig, ax = plt.subplots()\n",
    "# ax.figure.set_size_inches(15, 15)\n",
    "# sns.heatmap(corr, ax=ax, annot=True,  mask=mask, fmt='.2f', cbar=False, square=True, cmap=plt.cm.Blues, center=0)"
   ]
  },
  {
   "cell_type": "code",
   "execution_count": 8,
   "metadata": {},
   "outputs": [],
   "source": [
    "# corr.style.background_gradient().set_precision(2).set_properties(**{'font-size': '8pt'})"
   ]
  },
  {
   "cell_type": "code",
   "execution_count": 9,
   "metadata": {},
   "outputs": [],
   "source": [
    "# sns.pairplot(data, plot_kws = {'alpha': 0.5})"
   ]
  },
  {
   "cell_type": "markdown",
   "metadata": {},
   "source": [
    "## **Feature Extraction**"
   ]
  },
  {
   "cell_type": "markdown",
   "metadata": {},
   "source": [
    "### **Fields to Uppercase**"
   ]
  },
  {
   "cell_type": "code",
   "execution_count": 10,
   "metadata": {},
   "outputs": [],
   "source": [
    "taxi_trips['payment_type'] = taxi_trips['payment_type'].str.upper()\n",
    "taxi_trips['vendor_id'] = taxi_trips['vendor_id'].str.upper() "
   ]
  },
  {
   "cell_type": "markdown",
   "metadata": {},
   "source": [
    "### **Extract Dates**"
   ]
  },
  {
   "cell_type": "code",
   "execution_count": 11,
   "metadata": {},
   "outputs": [],
   "source": [
    "taxi_trips['pickup_datetime'] = pd.to_datetime(taxi_trips['pickup_datetime'])\n",
    "taxi_trips['dropoff_datetime'] = pd.to_datetime(taxi_trips['dropoff_datetime'])\n",
    "taxi_trips['trip_duration'] = taxi_trips['dropoff_datetime'] - taxi_trips['pickup_datetime']\n",
    "taxi_trips['day_name'] = taxi_trips['pickup_datetime'].dt.day_name().str.upper()"
   ]
  },
  {
   "cell_type": "code",
   "execution_count": 12,
   "metadata": {},
   "outputs": [],
   "source": [
    "taxi_trips['hour'] = taxi_trips['pickup_datetime'].dt.hour"
   ]
  },
  {
   "cell_type": "code",
   "execution_count": 13,
   "metadata": {},
   "outputs": [],
   "source": [
    "taxi_trips['day_month'] = taxi_trips['pickup_datetime'].dt.strftime('%d/%m')"
   ]
  },
  {
   "cell_type": "code",
   "execution_count": 14,
   "metadata": {},
   "outputs": [],
   "source": [
    "taxi_trips['day'] = taxi_trips['pickup_datetime'].dt.day"
   ]
  },
  {
   "cell_type": "code",
   "execution_count": 15,
   "metadata": {},
   "outputs": [],
   "source": [
    "taxi_trips['month'] = taxi_trips['pickup_datetime'].dt.month"
   ]
  },
  {
   "cell_type": "code",
   "execution_count": 16,
   "metadata": {},
   "outputs": [],
   "source": [
    "taxi_trips['year'] = taxi_trips['pickup_datetime'].dt.year"
   ]
  },
  {
   "cell_type": "code",
   "execution_count": 17,
   "metadata": {},
   "outputs": [
    {
     "data": {
      "text/html": [
       "<div>\n",
       "<style scoped>\n",
       "    .dataframe tbody tr th:only-of-type {\n",
       "        vertical-align: middle;\n",
       "    }\n",
       "\n",
       "    .dataframe tbody tr th {\n",
       "        vertical-align: top;\n",
       "    }\n",
       "\n",
       "    .dataframe thead th {\n",
       "        text-align: right;\n",
       "    }\n",
       "</style>\n",
       "<table border=\"1\" class=\"dataframe\">\n",
       "  <thead>\n",
       "    <tr style=\"text-align: right;\">\n",
       "      <th></th>\n",
       "      <th>vendor_id</th>\n",
       "      <th>pickup_datetime</th>\n",
       "      <th>dropoff_datetime</th>\n",
       "      <th>passenger_count</th>\n",
       "      <th>trip_distance</th>\n",
       "      <th>pickup_longitude</th>\n",
       "      <th>pickup_latitude</th>\n",
       "      <th>dropoff_longitude</th>\n",
       "      <th>dropoff_latitude</th>\n",
       "      <th>payment_type</th>\n",
       "      <th>...</th>\n",
       "      <th>tip_amount</th>\n",
       "      <th>tolls_amount</th>\n",
       "      <th>total_amount</th>\n",
       "      <th>trip_duration</th>\n",
       "      <th>day_name</th>\n",
       "      <th>hour</th>\n",
       "      <th>day_month</th>\n",
       "      <th>day</th>\n",
       "      <th>month</th>\n",
       "      <th>year</th>\n",
       "    </tr>\n",
       "  </thead>\n",
       "  <tbody>\n",
       "    <tr>\n",
       "      <th>0</th>\n",
       "      <td>CMT</td>\n",
       "      <td>2009-04-21 18:51:11.767205+00:00</td>\n",
       "      <td>2009-04-21 18:57:09.433767+00:00</td>\n",
       "      <td>2</td>\n",
       "      <td>0.80</td>\n",
       "      <td>-74.004114</td>\n",
       "      <td>40.742950</td>\n",
       "      <td>-73.994712</td>\n",
       "      <td>40.747950</td>\n",
       "      <td>CASH</td>\n",
       "      <td>...</td>\n",
       "      <td>0.0</td>\n",
       "      <td>0.0</td>\n",
       "      <td>5.4</td>\n",
       "      <td>00:05:57.666562</td>\n",
       "      <td>TUESDAY</td>\n",
       "      <td>18</td>\n",
       "      <td>21/04</td>\n",
       "      <td>21</td>\n",
       "      <td>4</td>\n",
       "      <td>2009</td>\n",
       "    </tr>\n",
       "    <tr>\n",
       "      <th>1</th>\n",
       "      <td>CMT</td>\n",
       "      <td>2009-01-13 07:40:07.639754+00:00</td>\n",
       "      <td>2009-01-13 07:50:36.386011+00:00</td>\n",
       "      <td>1</td>\n",
       "      <td>5.40</td>\n",
       "      <td>-73.996506</td>\n",
       "      <td>40.747784</td>\n",
       "      <td>-73.940449</td>\n",
       "      <td>40.792385</td>\n",
       "      <td>CASH</td>\n",
       "      <td>...</td>\n",
       "      <td>0.0</td>\n",
       "      <td>0.0</td>\n",
       "      <td>15.4</td>\n",
       "      <td>00:10:28.746257</td>\n",
       "      <td>TUESDAY</td>\n",
       "      <td>7</td>\n",
       "      <td>13/01</td>\n",
       "      <td>13</td>\n",
       "      <td>1</td>\n",
       "      <td>2009</td>\n",
       "    </tr>\n",
       "    <tr>\n",
       "      <th>2</th>\n",
       "      <td>VTS</td>\n",
       "      <td>2009-01-06 19:30:44.142187+00:00</td>\n",
       "      <td>2009-01-06 19:43:09.908429+00:00</td>\n",
       "      <td>5</td>\n",
       "      <td>1.67</td>\n",
       "      <td>-73.951340</td>\n",
       "      <td>40.752070</td>\n",
       "      <td>-73.944535</td>\n",
       "      <td>40.768108</td>\n",
       "      <td>CASH</td>\n",
       "      <td>...</td>\n",
       "      <td>0.0</td>\n",
       "      <td>0.0</td>\n",
       "      <td>7.1</td>\n",
       "      <td>00:12:25.766242</td>\n",
       "      <td>TUESDAY</td>\n",
       "      <td>19</td>\n",
       "      <td>06/01</td>\n",
       "      <td>6</td>\n",
       "      <td>1</td>\n",
       "      <td>2009</td>\n",
       "    </tr>\n",
       "    <tr>\n",
       "      <th>3</th>\n",
       "      <td>VTS</td>\n",
       "      <td>2009-09-24 08:28:09.004451+00:00</td>\n",
       "      <td>2009-09-24 08:41:56.739991+00:00</td>\n",
       "      <td>1</td>\n",
       "      <td>4.13</td>\n",
       "      <td>-74.001117</td>\n",
       "      <td>40.729128</td>\n",
       "      <td>-73.958122</td>\n",
       "      <td>40.721812</td>\n",
       "      <td>CASH</td>\n",
       "      <td>...</td>\n",
       "      <td>0.0</td>\n",
       "      <td>0.0</td>\n",
       "      <td>13.4</td>\n",
       "      <td>00:13:47.735540</td>\n",
       "      <td>THURSDAY</td>\n",
       "      <td>8</td>\n",
       "      <td>24/09</td>\n",
       "      <td>24</td>\n",
       "      <td>9</td>\n",
       "      <td>2009</td>\n",
       "    </tr>\n",
       "    <tr>\n",
       "      <th>4</th>\n",
       "      <td>VTS</td>\n",
       "      <td>2009-10-29 05:50:39.214629+00:00</td>\n",
       "      <td>2009-10-29 05:57:22.880174+00:00</td>\n",
       "      <td>1</td>\n",
       "      <td>2.03</td>\n",
       "      <td>-73.976600</td>\n",
       "      <td>40.756873</td>\n",
       "      <td>-73.979757</td>\n",
       "      <td>40.776075</td>\n",
       "      <td>CASH</td>\n",
       "      <td>...</td>\n",
       "      <td>0.0</td>\n",
       "      <td>0.0</td>\n",
       "      <td>8.2</td>\n",
       "      <td>00:06:43.665545</td>\n",
       "      <td>THURSDAY</td>\n",
       "      <td>5</td>\n",
       "      <td>29/10</td>\n",
       "      <td>29</td>\n",
       "      <td>10</td>\n",
       "      <td>2009</td>\n",
       "    </tr>\n",
       "  </tbody>\n",
       "</table>\n",
       "<p>5 rows × 22 columns</p>\n",
       "</div>"
      ],
      "text/plain": [
       "  vendor_id                  pickup_datetime                 dropoff_datetime  \\\n",
       "0       CMT 2009-04-21 18:51:11.767205+00:00 2009-04-21 18:57:09.433767+00:00   \n",
       "1       CMT 2009-01-13 07:40:07.639754+00:00 2009-01-13 07:50:36.386011+00:00   \n",
       "2       VTS 2009-01-06 19:30:44.142187+00:00 2009-01-06 19:43:09.908429+00:00   \n",
       "3       VTS 2009-09-24 08:28:09.004451+00:00 2009-09-24 08:41:56.739991+00:00   \n",
       "4       VTS 2009-10-29 05:50:39.214629+00:00 2009-10-29 05:57:22.880174+00:00   \n",
       "\n",
       "   passenger_count  trip_distance  pickup_longitude  pickup_latitude  \\\n",
       "0                2           0.80        -74.004114        40.742950   \n",
       "1                1           5.40        -73.996506        40.747784   \n",
       "2                5           1.67        -73.951340        40.752070   \n",
       "3                1           4.13        -74.001117        40.729128   \n",
       "4                1           2.03        -73.976600        40.756873   \n",
       "\n",
       "   dropoff_longitude  dropoff_latitude payment_type  ...  tip_amount  \\\n",
       "0         -73.994712         40.747950         CASH  ...         0.0   \n",
       "1         -73.940449         40.792385         CASH  ...         0.0   \n",
       "2         -73.944535         40.768108         CASH  ...         0.0   \n",
       "3         -73.958122         40.721812         CASH  ...         0.0   \n",
       "4         -73.979757         40.776075         CASH  ...         0.0   \n",
       "\n",
       "   tolls_amount  total_amount   trip_duration  day_name hour day_month  day  \\\n",
       "0           0.0           5.4 00:05:57.666562   TUESDAY   18     21/04   21   \n",
       "1           0.0          15.4 00:10:28.746257   TUESDAY    7     13/01   13   \n",
       "2           0.0           7.1 00:12:25.766242   TUESDAY   19     06/01    6   \n",
       "3           0.0          13.4 00:13:47.735540  THURSDAY    8     24/09   24   \n",
       "4           0.0           8.2 00:06:43.665545  THURSDAY    5     29/10   29   \n",
       "\n",
       "  month  year  \n",
       "0     4  2009  \n",
       "1     1  2009  \n",
       "2     1  2009  \n",
       "3     9  2009  \n",
       "4    10  2009  \n",
       "\n",
       "[5 rows x 22 columns]"
      ]
     },
     "execution_count": 17,
     "metadata": {},
     "output_type": "execute_result"
    }
   ],
   "source": [
    "taxi_trips.head()"
   ]
  },
  {
   "cell_type": "code",
   "execution_count": 18,
   "metadata": {},
   "outputs": [
    {
     "name": "stdout",
     "output_type": "stream",
     "text": [
      "<class 'pandas.core.frame.DataFrame'>\n",
      "RangeIndex: 4000000 entries, 0 to 3999999\n",
      "Data columns (total 22 columns):\n",
      "vendor_id            object\n",
      "pickup_datetime      datetime64[ns, UTC]\n",
      "dropoff_datetime     datetime64[ns, UTC]\n",
      "passenger_count      int64\n",
      "trip_distance        float64\n",
      "pickup_longitude     float64\n",
      "pickup_latitude      float64\n",
      "dropoff_longitude    float64\n",
      "dropoff_latitude     float64\n",
      "payment_type         object\n",
      "fare_amount          float64\n",
      "surcharge            float64\n",
      "tip_amount           float64\n",
      "tolls_amount         float64\n",
      "total_amount         float64\n",
      "trip_duration        timedelta64[ns]\n",
      "day_name             object\n",
      "hour                 int64\n",
      "day_month            object\n",
      "day                  int64\n",
      "month                int64\n",
      "year                 int64\n",
      "dtypes: datetime64[ns, UTC](2), float64(10), int64(5), object(4), timedelta64[ns](1)\n",
      "memory usage: 671.4+ MB\n"
     ]
    }
   ],
   "source": [
    "taxi_trips.info()"
   ]
  },
  {
   "cell_type": "markdown",
   "metadata": {},
   "source": [
    "# Data Hands On"
   ]
  },
  {
   "cell_type": "markdown",
   "metadata": {},
   "source": [
    "## 1. What is the average distance traveled by trips with a maximum of 2 passengers;"
   ]
  },
  {
   "cell_type": "code",
   "execution_count": 31,
   "metadata": {},
   "outputs": [],
   "source": [
    "df_trips_max2_pass = taxi_trips[taxi_trips['passenger_count'] <= 2]"
   ]
  },
  {
   "cell_type": "code",
   "execution_count": 32,
   "metadata": {},
   "outputs": [
    {
     "data": {
      "text/plain": [
       "(3319652, 22)"
      ]
     },
     "execution_count": 32,
     "metadata": {},
     "output_type": "execute_result"
    }
   ],
   "source": [
    "df_trips_max2_pass.shape"
   ]
  },
  {
   "cell_type": "code",
   "execution_count": 33,
   "metadata": {},
   "outputs": [],
   "source": [
    "# df = df_trips_max2_pass.groupby('year').agg({'trip_distance': ['mean']})\n",
    "df = df_trips_max2_pass.groupby('year').agg({'trip_distance': ['min','max', 'mean']})\n",
    "\n",
    "df.columns = ['min_distance', 'max_distance', 'average_distance']\n",
    "df = df.reset_index()"
   ]
  },
  {
   "cell_type": "code",
   "execution_count": 34,
   "metadata": {},
   "outputs": [
    {
     "data": {
      "text/html": [
       "<div>\n",
       "<style scoped>\n",
       "    .dataframe tbody tr th:only-of-type {\n",
       "        vertical-align: middle;\n",
       "    }\n",
       "\n",
       "    .dataframe tbody tr th {\n",
       "        vertical-align: top;\n",
       "    }\n",
       "\n",
       "    .dataframe thead th {\n",
       "        text-align: right;\n",
       "    }\n",
       "</style>\n",
       "<table border=\"1\" class=\"dataframe\">\n",
       "  <thead>\n",
       "    <tr style=\"text-align: right;\">\n",
       "      <th></th>\n",
       "      <th>year</th>\n",
       "      <th>min_distance</th>\n",
       "      <th>max_distance</th>\n",
       "      <th>average_distance</th>\n",
       "    </tr>\n",
       "  </thead>\n",
       "  <tbody>\n",
       "    <tr>\n",
       "      <th>0</th>\n",
       "      <td>2009</td>\n",
       "      <td>0.0</td>\n",
       "      <td>49.7</td>\n",
       "      <td>2.662527</td>\n",
       "    </tr>\n",
       "    <tr>\n",
       "      <th>1</th>\n",
       "      <td>2010</td>\n",
       "      <td>0.0</td>\n",
       "      <td>49.7</td>\n",
       "      <td>2.662527</td>\n",
       "    </tr>\n",
       "    <tr>\n",
       "      <th>2</th>\n",
       "      <td>2011</td>\n",
       "      <td>0.0</td>\n",
       "      <td>49.7</td>\n",
       "      <td>2.662527</td>\n",
       "    </tr>\n",
       "    <tr>\n",
       "      <th>3</th>\n",
       "      <td>2012</td>\n",
       "      <td>0.0</td>\n",
       "      <td>49.7</td>\n",
       "      <td>2.662527</td>\n",
       "    </tr>\n",
       "  </tbody>\n",
       "</table>\n",
       "</div>"
      ],
      "text/plain": [
       "   year  min_distance  max_distance  average_distance\n",
       "0  2009           0.0          49.7          2.662527\n",
       "1  2010           0.0          49.7          2.662527\n",
       "2  2011           0.0          49.7          2.662527\n",
       "3  2012           0.0          49.7          2.662527"
      ]
     },
     "execution_count": 34,
     "metadata": {},
     "output_type": "execute_result"
    }
   ],
   "source": [
    "df.head()"
   ]
  },
  {
   "cell_type": "code",
   "execution_count": 35,
   "metadata": {},
   "outputs": [
    {
     "data": {
      "text/plain": [
       "Text(0.5, 0, 'Year')"
      ]
     },
     "execution_count": 35,
     "metadata": {},
     "output_type": "execute_result"
    },
    {
     "data": {
      "image/png": "[encoded data removed]",
      "text/plain": [
       "<Figure size 1440x720 with 2 Axes>"
      ]
     },
     "metadata": {},
     "output_type": "display_data"
    }
   ],
   "source": [
    "fig = plt.figure(figsize=(20,10))\n",
    "fig.suptitle(\"Average distance traveled by trips with a maximum of 2 passengers\", fontsize=16)\n",
    "\n",
    "ax1 = fig.add_subplot(121)\n",
    "ax2 = fig.add_subplot(122)\n",
    "\n",
    "sns.stripplot(x=\"year\", y=\"trip_distance\", data=taxi_trips, jitter=True, dodge=False, alpha=.3, ax=ax1)\n",
    "plt.plot(df_trips_max2_pass.groupby('year').mean()['trip_distance'], \"s\", mfc=\"black\", ms=10)\n",
    "\n",
    "sns.stripplot(x=\"year\", y=\"average_distance\", data=df, ax=ax2)\n",
    "\n",
    "ax1.set_ylabel('Total Trips')\n",
    "ax2.set_ylabel('Average Distance (m)')\n",
    "\n",
    "ax1.set_xlabel('Year')\n",
    "ax2.set_xlabel('Year')"
   ]
  },
  {
   "cell_type": "markdown",
   "metadata": {},
   "source": [
    "## 2. Which are the 3 biggest vendors based on the total amount of money raised;"
   ]
  },
  {
   "cell_type": "code",
   "execution_count": 36,
   "metadata": {},
   "outputs": [],
   "source": [
    "df_bigst_vendors = taxi_trips.groupby('vendor_id').agg({'total_amount': ['sum']})\n",
    "df_bigst_vendors.columns = ['total_amount_raised']\n",
    "df_bigst_vendors['total_amount_raised'] =  df_bigst_vendors['total_amount_raised'].round(2)\n",
    "df_bigst_vendors = df_bigst_vendors.reset_index()"
   ]
  },
  {
   "cell_type": "code",
   "execution_count": 37,
   "metadata": {},
   "outputs": [
    {
     "data": {
      "text/html": [
       "<div>\n",
       "<style scoped>\n",
       "    .dataframe tbody tr th:only-of-type {\n",
       "        vertical-align: middle;\n",
       "    }\n",
       "\n",
       "    .dataframe tbody tr th {\n",
       "        vertical-align: top;\n",
       "    }\n",
       "\n",
       "    .dataframe thead th {\n",
       "        text-align: right;\n",
       "    }\n",
       "</style>\n",
       "<table border=\"1\" class=\"dataframe\">\n",
       "  <thead>\n",
       "    <tr style=\"text-align: right;\">\n",
       "      <th></th>\n",
       "      <th>vendor_id</th>\n",
       "      <th>total_amount_raised</th>\n",
       "    </tr>\n",
       "  </thead>\n",
       "  <tbody>\n",
       "    <tr>\n",
       "      <th>0</th>\n",
       "      <td>CMT</td>\n",
       "      <td>19549084.28</td>\n",
       "    </tr>\n",
       "    <tr>\n",
       "      <th>3</th>\n",
       "      <td>VTS</td>\n",
       "      <td>19043434.00</td>\n",
       "    </tr>\n",
       "    <tr>\n",
       "      <th>1</th>\n",
       "      <td>DDS</td>\n",
       "      <td>2714901.72</td>\n",
       "    </tr>\n",
       "    <tr>\n",
       "      <th>2</th>\n",
       "      <td>TS</td>\n",
       "      <td>45.60</td>\n",
       "    </tr>\n",
       "  </tbody>\n",
       "</table>\n",
       "</div>"
      ],
      "text/plain": [
       "  vendor_id  total_amount_raised\n",
       "0       CMT          19549084.28\n",
       "3       VTS          19043434.00\n",
       "1       DDS           2714901.72\n",
       "2        TS                45.60"
      ]
     },
     "execution_count": 37,
     "metadata": {},
     "output_type": "execute_result"
    }
   ],
   "source": [
    "df_bigst_vendors = df_bigst_vendors.sort_values(by=['total_amount_raised'], ascending=False)\n",
    "df_bigst_vendors.head()"
   ]
  },
  {
   "cell_type": "code",
   "execution_count": 38,
   "metadata": {},
   "outputs": [
    {
     "data": {
      "text/plain": [
       "Text(0, 0.5, 'Amount Raised ($)')"
      ]
     },
     "execution_count": 38,
     "metadata": {},
     "output_type": "execute_result"
    },
    {
     "data": {
      "image/png": "[encoded data removed]",
      "text/plain": [
       "<Figure size 720x504 with 1 Axes>"
      ]
     },
     "metadata": {},
     "output_type": "display_data"
    }
   ],
   "source": [
    "plt.figure(figsize=(10,7))\n",
    "sns.set(style=\"whitegrid\")\n",
    "ax = sns.barplot(x=\"vendor_id\", y=\"total_amount_raised\", data=df_bigst_vendors)\n",
    "plt.xlabel(\"Vendor\")\n",
    "plt.ylabel(\"Amount Raised ($)\")"
   ]
  },
  {
   "cell_type": "markdown",
   "metadata": {},
   "source": [
    "## 3. Make a histogram of the monthly distribution over 4 years of rides paid with cash;"
   ]
  },
  {
   "cell_type": "code",
   "execution_count": 39,
   "metadata": {},
   "outputs": [],
   "source": [
    "df_cash_paid = taxi_trips[taxi_trips['payment_type'] == 'CASH']"
   ]
  },
  {
   "cell_type": "code",
   "execution_count": 40,
   "metadata": {},
   "outputs": [
    {
     "data": {
      "text/html": [
       "<div>\n",
       "<style scoped>\n",
       "    .dataframe tbody tr th:only-of-type {\n",
       "        vertical-align: middle;\n",
       "    }\n",
       "\n",
       "    .dataframe tbody tr th {\n",
       "        vertical-align: top;\n",
       "    }\n",
       "\n",
       "    .dataframe thead th {\n",
       "        text-align: right;\n",
       "    }\n",
       "</style>\n",
       "<table border=\"1\" class=\"dataframe\">\n",
       "  <thead>\n",
       "    <tr style=\"text-align: right;\">\n",
       "      <th></th>\n",
       "      <th>vendor_id</th>\n",
       "      <th>pickup_datetime</th>\n",
       "      <th>dropoff_datetime</th>\n",
       "      <th>passenger_count</th>\n",
       "      <th>trip_distance</th>\n",
       "      <th>pickup_longitude</th>\n",
       "      <th>pickup_latitude</th>\n",
       "      <th>dropoff_longitude</th>\n",
       "      <th>dropoff_latitude</th>\n",
       "      <th>payment_type</th>\n",
       "      <th>...</th>\n",
       "      <th>tip_amount</th>\n",
       "      <th>tolls_amount</th>\n",
       "      <th>total_amount</th>\n",
       "      <th>trip_duration</th>\n",
       "      <th>day_name</th>\n",
       "      <th>hour</th>\n",
       "      <th>day_month</th>\n",
       "      <th>day</th>\n",
       "      <th>month</th>\n",
       "      <th>year</th>\n",
       "    </tr>\n",
       "  </thead>\n",
       "  <tbody>\n",
       "    <tr>\n",
       "      <th>0</th>\n",
       "      <td>CMT</td>\n",
       "      <td>2009-04-21 18:51:11.767205+00:00</td>\n",
       "      <td>2009-04-21 18:57:09.433767+00:00</td>\n",
       "      <td>2</td>\n",
       "      <td>0.80</td>\n",
       "      <td>-74.004114</td>\n",
       "      <td>40.742950</td>\n",
       "      <td>-73.994712</td>\n",
       "      <td>40.747950</td>\n",
       "      <td>CASH</td>\n",
       "      <td>...</td>\n",
       "      <td>0.0</td>\n",
       "      <td>0.0</td>\n",
       "      <td>5.4</td>\n",
       "      <td>00:05:57.666562</td>\n",
       "      <td>TUESDAY</td>\n",
       "      <td>18</td>\n",
       "      <td>21/04</td>\n",
       "      <td>21</td>\n",
       "      <td>4</td>\n",
       "      <td>2009</td>\n",
       "    </tr>\n",
       "    <tr>\n",
       "      <th>1</th>\n",
       "      <td>CMT</td>\n",
       "      <td>2009-01-13 07:40:07.639754+00:00</td>\n",
       "      <td>2009-01-13 07:50:36.386011+00:00</td>\n",
       "      <td>1</td>\n",
       "      <td>5.40</td>\n",
       "      <td>-73.996506</td>\n",
       "      <td>40.747784</td>\n",
       "      <td>-73.940449</td>\n",
       "      <td>40.792385</td>\n",
       "      <td>CASH</td>\n",
       "      <td>...</td>\n",
       "      <td>0.0</td>\n",
       "      <td>0.0</td>\n",
       "      <td>15.4</td>\n",
       "      <td>00:10:28.746257</td>\n",
       "      <td>TUESDAY</td>\n",
       "      <td>7</td>\n",
       "      <td>13/01</td>\n",
       "      <td>13</td>\n",
       "      <td>1</td>\n",
       "      <td>2009</td>\n",
       "    </tr>\n",
       "    <tr>\n",
       "      <th>2</th>\n",
       "      <td>VTS</td>\n",
       "      <td>2009-01-06 19:30:44.142187+00:00</td>\n",
       "      <td>2009-01-06 19:43:09.908429+00:00</td>\n",
       "      <td>5</td>\n",
       "      <td>1.67</td>\n",
       "      <td>-73.951340</td>\n",
       "      <td>40.752070</td>\n",
       "      <td>-73.944535</td>\n",
       "      <td>40.768108</td>\n",
       "      <td>CASH</td>\n",
       "      <td>...</td>\n",
       "      <td>0.0</td>\n",
       "      <td>0.0</td>\n",
       "      <td>7.1</td>\n",
       "      <td>00:12:25.766242</td>\n",
       "      <td>TUESDAY</td>\n",
       "      <td>19</td>\n",
       "      <td>06/01</td>\n",
       "      <td>6</td>\n",
       "      <td>1</td>\n",
       "      <td>2009</td>\n",
       "    </tr>\n",
       "    <tr>\n",
       "      <th>3</th>\n",
       "      <td>VTS</td>\n",
       "      <td>2009-09-24 08:28:09.004451+00:00</td>\n",
       "      <td>2009-09-24 08:41:56.739991+00:00</td>\n",
       "      <td>1</td>\n",
       "      <td>4.13</td>\n",
       "      <td>-74.001117</td>\n",
       "      <td>40.729128</td>\n",
       "      <td>-73.958122</td>\n",
       "      <td>40.721812</td>\n",
       "      <td>CASH</td>\n",
       "      <td>...</td>\n",
       "      <td>0.0</td>\n",
       "      <td>0.0</td>\n",
       "      <td>13.4</td>\n",
       "      <td>00:13:47.735540</td>\n",
       "      <td>THURSDAY</td>\n",
       "      <td>8</td>\n",
       "      <td>24/09</td>\n",
       "      <td>24</td>\n",
       "      <td>9</td>\n",
       "      <td>2009</td>\n",
       "    </tr>\n",
       "    <tr>\n",
       "      <th>4</th>\n",
       "      <td>VTS</td>\n",
       "      <td>2009-10-29 05:50:39.214629+00:00</td>\n",
       "      <td>2009-10-29 05:57:22.880174+00:00</td>\n",
       "      <td>1</td>\n",
       "      <td>2.03</td>\n",
       "      <td>-73.976600</td>\n",
       "      <td>40.756873</td>\n",
       "      <td>-73.979757</td>\n",
       "      <td>40.776075</td>\n",
       "      <td>CASH</td>\n",
       "      <td>...</td>\n",
       "      <td>0.0</td>\n",
       "      <td>0.0</td>\n",
       "      <td>8.2</td>\n",
       "      <td>00:06:43.665545</td>\n",
       "      <td>THURSDAY</td>\n",
       "      <td>5</td>\n",
       "      <td>29/10</td>\n",
       "      <td>29</td>\n",
       "      <td>10</td>\n",
       "      <td>2009</td>\n",
       "    </tr>\n",
       "  </tbody>\n",
       "</table>\n",
       "<p>5 rows × 22 columns</p>\n",
       "</div>"
      ],
      "text/plain": [
       "  vendor_id                  pickup_datetime                 dropoff_datetime  \\\n",
       "0       CMT 2009-04-21 18:51:11.767205+00:00 2009-04-21 18:57:09.433767+00:00   \n",
       "1       CMT 2009-01-13 07:40:07.639754+00:00 2009-01-13 07:50:36.386011+00:00   \n",
       "2       VTS 2009-01-06 19:30:44.142187+00:00 2009-01-06 19:43:09.908429+00:00   \n",
       "3       VTS 2009-09-24 08:28:09.004451+00:00 2009-09-24 08:41:56.739991+00:00   \n",
       "4       VTS 2009-10-29 05:50:39.214629+00:00 2009-10-29 05:57:22.880174+00:00   \n",
       "\n",
       "   passenger_count  trip_distance  pickup_longitude  pickup_latitude  \\\n",
       "0                2           0.80        -74.004114        40.742950   \n",
       "1                1           5.40        -73.996506        40.747784   \n",
       "2                5           1.67        -73.951340        40.752070   \n",
       "3                1           4.13        -74.001117        40.729128   \n",
       "4                1           2.03        -73.976600        40.756873   \n",
       "\n",
       "   dropoff_longitude  dropoff_latitude payment_type  ...  tip_amount  \\\n",
       "0         -73.994712         40.747950         CASH  ...         0.0   \n",
       "1         -73.940449         40.792385         CASH  ...         0.0   \n",
       "2         -73.944535         40.768108         CASH  ...         0.0   \n",
       "3         -73.958122         40.721812         CASH  ...         0.0   \n",
       "4         -73.979757         40.776075         CASH  ...         0.0   \n",
       "\n",
       "   tolls_amount  total_amount   trip_duration  day_name hour day_month  day  \\\n",
       "0           0.0           5.4 00:05:57.666562   TUESDAY   18     21/04   21   \n",
       "1           0.0          15.4 00:10:28.746257   TUESDAY    7     13/01   13   \n",
       "2           0.0           7.1 00:12:25.766242   TUESDAY   19     06/01    6   \n",
       "3           0.0          13.4 00:13:47.735540  THURSDAY    8     24/09   24   \n",
       "4           0.0           8.2 00:06:43.665545  THURSDAY    5     29/10   29   \n",
       "\n",
       "  month  year  \n",
       "0     4  2009  \n",
       "1     1  2009  \n",
       "2     1  2009  \n",
       "3     9  2009  \n",
       "4    10  2009  \n",
       "\n",
       "[5 rows x 22 columns]"
      ]
     },
     "execution_count": 40,
     "metadata": {},
     "output_type": "execute_result"
    }
   ],
   "source": [
    "df_cash_paid.head()"
   ]
  },
  {
   "cell_type": "code",
   "execution_count": 41,
   "metadata": {},
   "outputs": [
    {
     "data": {
      "text/plain": [
       "(3242852, 22)"
      ]
     },
     "execution_count": 41,
     "metadata": {},
     "output_type": "execute_result"
    }
   ],
   "source": [
    "df_cash_paid.shape"
   ]
  },
  {
   "cell_type": "code",
   "execution_count": 42,
   "metadata": {},
   "outputs": [],
   "source": [
    "df_cash_paid_hist = df_cash_paid.groupby(['year', 'month']).agg({'payment_type': ['count']})\n",
    "df_cash_paid_hist.columns = ['payment_type_count']\n",
    "df_cash_paid_hist = df_cash_paid_hist.reset_index()"
   ]
  },
  {
   "cell_type": "code",
   "execution_count": 43,
   "metadata": {},
   "outputs": [
    {
     "data": {
      "text/html": [
       "<div>\n",
       "<style scoped>\n",
       "    .dataframe tbody tr th:only-of-type {\n",
       "        vertical-align: middle;\n",
       "    }\n",
       "\n",
       "    .dataframe tbody tr th {\n",
       "        vertical-align: top;\n",
       "    }\n",
       "\n",
       "    .dataframe thead th {\n",
       "        text-align: right;\n",
       "    }\n",
       "</style>\n",
       "<table border=\"1\" class=\"dataframe\">\n",
       "  <thead>\n",
       "    <tr style=\"text-align: right;\">\n",
       "      <th></th>\n",
       "      <th>year</th>\n",
       "      <th>month</th>\n",
       "      <th>payment_type_count</th>\n",
       "    </tr>\n",
       "  </thead>\n",
       "  <tbody>\n",
       "    <tr>\n",
       "      <th>0</th>\n",
       "      <td>2009</td>\n",
       "      <td>1</td>\n",
       "      <td>66824</td>\n",
       "    </tr>\n",
       "    <tr>\n",
       "      <th>1</th>\n",
       "      <td>2009</td>\n",
       "      <td>2</td>\n",
       "      <td>66680</td>\n",
       "    </tr>\n",
       "    <tr>\n",
       "      <th>2</th>\n",
       "      <td>2009</td>\n",
       "      <td>3</td>\n",
       "      <td>73948</td>\n",
       "    </tr>\n",
       "    <tr>\n",
       "      <th>3</th>\n",
       "      <td>2009</td>\n",
       "      <td>4</td>\n",
       "      <td>71142</td>\n",
       "    </tr>\n",
       "    <tr>\n",
       "      <th>4</th>\n",
       "      <td>2009</td>\n",
       "      <td>5</td>\n",
       "      <td>74151</td>\n",
       "    </tr>\n",
       "  </tbody>\n",
       "</table>\n",
       "</div>"
      ],
      "text/plain": [
       "   year  month  payment_type_count\n",
       "0  2009      1               66824\n",
       "1  2009      2               66680\n",
       "2  2009      3               73948\n",
       "3  2009      4               71142\n",
       "4  2009      5               74151"
      ]
     },
     "execution_count": 43,
     "metadata": {},
     "output_type": "execute_result"
    }
   ],
   "source": [
    "df_cash_paid_hist.head()"
   ]
  },
  {
   "cell_type": "code",
   "execution_count": 44,
   "metadata": {},
   "outputs": [
    {
     "data": {
      "text/plain": [
       "<seaborn.axisgrid.FacetGrid at 0x1edc7d3c8>"
      ]
     },
     "execution_count": 44,
     "metadata": {},
     "output_type": "execute_result"
    },
    {
     "data": {
      "text/plain": [
       "<Figure size 2160x2016 with 0 Axes>"
      ]
     },
     "metadata": {},
     "output_type": "display_data"
    },
    {
     "data": {
      "image/png": "[encoded data removed]",
      "text/plain": [
       "<Figure size 864x216 with 4 Axes>"
      ]
     },
     "metadata": {},
     "output_type": "display_data"
    }
   ],
   "source": [
    "plt.figure(figsize=(30,28))\n",
    "sns.FacetGrid(df_cash_paid_hist, col=\"year\").map(plt.hist, \"payment_type_count\")"
   ]
  },
  {
   "cell_type": "markdown",
   "metadata": {},
   "source": [
    "## 4. Make a time series chart computing the number of tips each day for the last 3 months of 2012."
   ]
  },
  {
   "cell_type": "code",
   "execution_count": 46,
   "metadata": {},
   "outputs": [],
   "source": [
    "df_tips = taxi_trips[(taxi_trips['month'] >= 10) & (taxi_trips['year'] == 2012)]"
   ]
  },
  {
   "cell_type": "code",
   "execution_count": 47,
   "metadata": {},
   "outputs": [
    {
     "data": {
      "text/html": [
       "<div>\n",
       "<style scoped>\n",
       "    .dataframe tbody tr th:only-of-type {\n",
       "        vertical-align: middle;\n",
       "    }\n",
       "\n",
       "    .dataframe tbody tr th {\n",
       "        vertical-align: top;\n",
       "    }\n",
       "\n",
       "    .dataframe thead th {\n",
       "        text-align: right;\n",
       "    }\n",
       "</style>\n",
       "<table border=\"1\" class=\"dataframe\">\n",
       "  <thead>\n",
       "    <tr style=\"text-align: right;\">\n",
       "      <th></th>\n",
       "      <th>vendor_id</th>\n",
       "      <th>pickup_datetime</th>\n",
       "      <th>dropoff_datetime</th>\n",
       "      <th>passenger_count</th>\n",
       "      <th>trip_distance</th>\n",
       "      <th>pickup_longitude</th>\n",
       "      <th>pickup_latitude</th>\n",
       "      <th>dropoff_longitude</th>\n",
       "      <th>dropoff_latitude</th>\n",
       "      <th>payment_type</th>\n",
       "      <th>...</th>\n",
       "      <th>tip_amount</th>\n",
       "      <th>tolls_amount</th>\n",
       "      <th>total_amount</th>\n",
       "      <th>trip_duration</th>\n",
       "      <th>day_name</th>\n",
       "      <th>hour</th>\n",
       "      <th>day_month</th>\n",
       "      <th>day</th>\n",
       "      <th>month</th>\n",
       "      <th>year</th>\n",
       "    </tr>\n",
       "  </thead>\n",
       "  <tbody>\n",
       "    <tr>\n",
       "      <th>3000009</th>\n",
       "      <td>VTS</td>\n",
       "      <td>2012-10-17 11:28:59.571708+00:00</td>\n",
       "      <td>2012-10-17 11:43:49.819286+00:00</td>\n",
       "      <td>5</td>\n",
       "      <td>0.75</td>\n",
       "      <td>-74.001978</td>\n",
       "      <td>40.740683</td>\n",
       "      <td>-73.993722</td>\n",
       "      <td>40.747330</td>\n",
       "      <td>CASH</td>\n",
       "      <td>...</td>\n",
       "      <td>0.0</td>\n",
       "      <td>0.0</td>\n",
       "      <td>3.7</td>\n",
       "      <td>00:14:50.247578</td>\n",
       "      <td>WEDNESDAY</td>\n",
       "      <td>11</td>\n",
       "      <td>17/10</td>\n",
       "      <td>17</td>\n",
       "      <td>10</td>\n",
       "      <td>2012</td>\n",
       "    </tr>\n",
       "    <tr>\n",
       "      <th>3000011</th>\n",
       "      <td>VTS</td>\n",
       "      <td>2012-10-17 21:46:51.187166+00:00</td>\n",
       "      <td>2012-10-17 21:52:24.351695+00:00</td>\n",
       "      <td>1</td>\n",
       "      <td>4.02</td>\n",
       "      <td>-73.996177</td>\n",
       "      <td>40.686802</td>\n",
       "      <td>-73.990310</td>\n",
       "      <td>40.731687</td>\n",
       "      <td>CREDIT</td>\n",
       "      <td>...</td>\n",
       "      <td>2.0</td>\n",
       "      <td>0.0</td>\n",
       "      <td>14.2</td>\n",
       "      <td>00:05:33.164529</td>\n",
       "      <td>WEDNESDAY</td>\n",
       "      <td>21</td>\n",
       "      <td>17/10</td>\n",
       "      <td>17</td>\n",
       "      <td>10</td>\n",
       "      <td>2012</td>\n",
       "    </tr>\n",
       "    <tr>\n",
       "      <th>3000027</th>\n",
       "      <td>VTS</td>\n",
       "      <td>2012-10-19 11:28:47.324903+00:00</td>\n",
       "      <td>2012-10-19 11:38:44.793403+00:00</td>\n",
       "      <td>1</td>\n",
       "      <td>1.77</td>\n",
       "      <td>-73.953867</td>\n",
       "      <td>40.781828</td>\n",
       "      <td>-73.970007</td>\n",
       "      <td>40.759648</td>\n",
       "      <td>CREDIT</td>\n",
       "      <td>...</td>\n",
       "      <td>2.0</td>\n",
       "      <td>0.0</td>\n",
       "      <td>8.1</td>\n",
       "      <td>00:09:57.468500</td>\n",
       "      <td>FRIDAY</td>\n",
       "      <td>11</td>\n",
       "      <td>19/10</td>\n",
       "      <td>19</td>\n",
       "      <td>10</td>\n",
       "      <td>2012</td>\n",
       "    </tr>\n",
       "    <tr>\n",
       "      <th>3000029</th>\n",
       "      <td>VTS</td>\n",
       "      <td>2012-10-22 17:19:23.547796+00:00</td>\n",
       "      <td>2012-10-22 17:29:50.335519+00:00</td>\n",
       "      <td>1</td>\n",
       "      <td>1.75</td>\n",
       "      <td>-74.000610</td>\n",
       "      <td>40.717268</td>\n",
       "      <td>-73.996682</td>\n",
       "      <td>40.734113</td>\n",
       "      <td>CASH</td>\n",
       "      <td>...</td>\n",
       "      <td>0.0</td>\n",
       "      <td>0.0</td>\n",
       "      <td>8.5</td>\n",
       "      <td>00:10:26.787723</td>\n",
       "      <td>MONDAY</td>\n",
       "      <td>17</td>\n",
       "      <td>22/10</td>\n",
       "      <td>22</td>\n",
       "      <td>10</td>\n",
       "      <td>2012</td>\n",
       "    </tr>\n",
       "    <tr>\n",
       "      <th>3000030</th>\n",
       "      <td>VTS</td>\n",
       "      <td>2012-10-03 22:59:36.384652+00:00</td>\n",
       "      <td>2012-10-03 23:12:04.900045+00:00</td>\n",
       "      <td>2</td>\n",
       "      <td>0.47</td>\n",
       "      <td>-73.966812</td>\n",
       "      <td>40.764003</td>\n",
       "      <td>-73.961073</td>\n",
       "      <td>40.766725</td>\n",
       "      <td>CASH</td>\n",
       "      <td>...</td>\n",
       "      <td>0.0</td>\n",
       "      <td>0.0</td>\n",
       "      <td>4.7</td>\n",
       "      <td>00:12:28.515393</td>\n",
       "      <td>WEDNESDAY</td>\n",
       "      <td>22</td>\n",
       "      <td>03/10</td>\n",
       "      <td>3</td>\n",
       "      <td>10</td>\n",
       "      <td>2012</td>\n",
       "    </tr>\n",
       "  </tbody>\n",
       "</table>\n",
       "<p>5 rows × 22 columns</p>\n",
       "</div>"
      ],
      "text/plain": [
       "        vendor_id                  pickup_datetime  \\\n",
       "3000009       VTS 2012-10-17 11:28:59.571708+00:00   \n",
       "3000011       VTS 2012-10-17 21:46:51.187166+00:00   \n",
       "3000027       VTS 2012-10-19 11:28:47.324903+00:00   \n",
       "3000029       VTS 2012-10-22 17:19:23.547796+00:00   \n",
       "3000030       VTS 2012-10-03 22:59:36.384652+00:00   \n",
       "\n",
       "                        dropoff_datetime  passenger_count  trip_distance  \\\n",
       "3000009 2012-10-17 11:43:49.819286+00:00                5           0.75   \n",
       "3000011 2012-10-17 21:52:24.351695+00:00                1           4.02   \n",
       "3000027 2012-10-19 11:38:44.793403+00:00                1           1.77   \n",
       "3000029 2012-10-22 17:29:50.335519+00:00                1           1.75   \n",
       "3000030 2012-10-03 23:12:04.900045+00:00                2           0.47   \n",
       "\n",
       "         pickup_longitude  pickup_latitude  dropoff_longitude  \\\n",
       "3000009        -74.001978        40.740683         -73.993722   \n",
       "3000011        -73.996177        40.686802         -73.990310   \n",
       "3000027        -73.953867        40.781828         -73.970007   \n",
       "3000029        -74.000610        40.717268         -73.996682   \n",
       "3000030        -73.966812        40.764003         -73.961073   \n",
       "\n",
       "         dropoff_latitude payment_type  ...  tip_amount  tolls_amount  \\\n",
       "3000009         40.747330         CASH  ...         0.0           0.0   \n",
       "3000011         40.731687       CREDIT  ...         2.0           0.0   \n",
       "3000027         40.759648       CREDIT  ...         2.0           0.0   \n",
       "3000029         40.734113         CASH  ...         0.0           0.0   \n",
       "3000030         40.766725         CASH  ...         0.0           0.0   \n",
       "\n",
       "         total_amount   trip_duration   day_name hour day_month  day month  \\\n",
       "3000009           3.7 00:14:50.247578  WEDNESDAY   11     17/10   17    10   \n",
       "3000011          14.2 00:05:33.164529  WEDNESDAY   21     17/10   17    10   \n",
       "3000027           8.1 00:09:57.468500     FRIDAY   11     19/10   19    10   \n",
       "3000029           8.5 00:10:26.787723     MONDAY   17     22/10   22    10   \n",
       "3000030           4.7 00:12:28.515393  WEDNESDAY   22     03/10    3    10   \n",
       "\n",
       "         year  \n",
       "3000009  2012  \n",
       "3000011  2012  \n",
       "3000027  2012  \n",
       "3000029  2012  \n",
       "3000030  2012  \n",
       "\n",
       "[5 rows x 22 columns]"
      ]
     },
     "execution_count": 47,
     "metadata": {},
     "output_type": "execute_result"
    }
   ],
   "source": [
    "df_tips.head()"
   ]
  },
  {
   "cell_type": "code",
   "execution_count": 48,
   "metadata": {},
   "outputs": [
    {
     "name": "stdout",
     "output_type": "stream",
     "text": [
      "<class 'pandas.core.frame.DataFrame'>\n",
      "Int64Index: 89749 entries, 3000009 to 3999993\n",
      "Data columns (total 22 columns):\n",
      "vendor_id            89749 non-null object\n",
      "pickup_datetime      89749 non-null datetime64[ns, UTC]\n",
      "dropoff_datetime     89749 non-null datetime64[ns, UTC]\n",
      "passenger_count      89749 non-null int64\n",
      "trip_distance        89749 non-null float64\n",
      "pickup_longitude     89749 non-null float64\n",
      "pickup_latitude      89749 non-null float64\n",
      "dropoff_longitude    89749 non-null float64\n",
      "dropoff_latitude     89749 non-null float64\n",
      "payment_type         89749 non-null object\n",
      "fare_amount          89749 non-null float64\n",
      "surcharge            89749 non-null float64\n",
      "tip_amount           89749 non-null float64\n",
      "tolls_amount         89749 non-null float64\n",
      "total_amount         89749 non-null float64\n",
      "trip_duration        89749 non-null timedelta64[ns]\n",
      "day_name             89749 non-null object\n",
      "hour                 89749 non-null int64\n",
      "day_month            89749 non-null object\n",
      "day                  89749 non-null int64\n",
      "month                89749 non-null int64\n",
      "year                 89749 non-null int64\n",
      "dtypes: datetime64[ns, UTC](2), float64(10), int64(5), object(4), timedelta64[ns](1)\n",
      "memory usage: 15.7+ MB\n"
     ]
    }
   ],
   "source": [
    "df_tips.info()"
   ]
  },
  {
   "cell_type": "code",
   "execution_count": 49,
   "metadata": {},
   "outputs": [
    {
     "data": {
      "text/html": [
       "<div>\n",
       "<style scoped>\n",
       "    .dataframe tbody tr th:only-of-type {\n",
       "        vertical-align: middle;\n",
       "    }\n",
       "\n",
       "    .dataframe tbody tr th {\n",
       "        vertical-align: top;\n",
       "    }\n",
       "\n",
       "    .dataframe thead th {\n",
       "        text-align: right;\n",
       "    }\n",
       "</style>\n",
       "<table border=\"1\" class=\"dataframe\">\n",
       "  <thead>\n",
       "    <tr style=\"text-align: right;\">\n",
       "      <th></th>\n",
       "      <th>vendor_id</th>\n",
       "      <th>pickup_datetime</th>\n",
       "      <th>dropoff_datetime</th>\n",
       "      <th>passenger_count</th>\n",
       "      <th>trip_distance</th>\n",
       "      <th>pickup_longitude</th>\n",
       "      <th>pickup_latitude</th>\n",
       "      <th>dropoff_longitude</th>\n",
       "      <th>dropoff_latitude</th>\n",
       "      <th>payment_type</th>\n",
       "      <th>...</th>\n",
       "      <th>tip_amount</th>\n",
       "      <th>tolls_amount</th>\n",
       "      <th>total_amount</th>\n",
       "      <th>trip_duration</th>\n",
       "      <th>day_name</th>\n",
       "      <th>hour</th>\n",
       "      <th>day_month</th>\n",
       "      <th>day</th>\n",
       "      <th>month</th>\n",
       "      <th>year</th>\n",
       "    </tr>\n",
       "  </thead>\n",
       "  <tbody>\n",
       "    <tr>\n",
       "      <th>3000009</th>\n",
       "      <td>VTS</td>\n",
       "      <td>2012-10-17 11:28:59.571708+00:00</td>\n",
       "      <td>2012-10-17 11:43:49.819286+00:00</td>\n",
       "      <td>5</td>\n",
       "      <td>0.75</td>\n",
       "      <td>-74.001978</td>\n",
       "      <td>40.740683</td>\n",
       "      <td>-73.993722</td>\n",
       "      <td>40.747330</td>\n",
       "      <td>CASH</td>\n",
       "      <td>...</td>\n",
       "      <td>0.0</td>\n",
       "      <td>0.0</td>\n",
       "      <td>3.7</td>\n",
       "      <td>00:14:50.247578</td>\n",
       "      <td>WEDNESDAY</td>\n",
       "      <td>11</td>\n",
       "      <td>17/10</td>\n",
       "      <td>17</td>\n",
       "      <td>10</td>\n",
       "      <td>2012</td>\n",
       "    </tr>\n",
       "    <tr>\n",
       "      <th>3000011</th>\n",
       "      <td>VTS</td>\n",
       "      <td>2012-10-17 21:46:51.187166+00:00</td>\n",
       "      <td>2012-10-17 21:52:24.351695+00:00</td>\n",
       "      <td>1</td>\n",
       "      <td>4.02</td>\n",
       "      <td>-73.996177</td>\n",
       "      <td>40.686802</td>\n",
       "      <td>-73.990310</td>\n",
       "      <td>40.731687</td>\n",
       "      <td>CREDIT</td>\n",
       "      <td>...</td>\n",
       "      <td>2.0</td>\n",
       "      <td>0.0</td>\n",
       "      <td>14.2</td>\n",
       "      <td>00:05:33.164529</td>\n",
       "      <td>WEDNESDAY</td>\n",
       "      <td>21</td>\n",
       "      <td>17/10</td>\n",
       "      <td>17</td>\n",
       "      <td>10</td>\n",
       "      <td>2012</td>\n",
       "    </tr>\n",
       "    <tr>\n",
       "      <th>3000027</th>\n",
       "      <td>VTS</td>\n",
       "      <td>2012-10-19 11:28:47.324903+00:00</td>\n",
       "      <td>2012-10-19 11:38:44.793403+00:00</td>\n",
       "      <td>1</td>\n",
       "      <td>1.77</td>\n",
       "      <td>-73.953867</td>\n",
       "      <td>40.781828</td>\n",
       "      <td>-73.970007</td>\n",
       "      <td>40.759648</td>\n",
       "      <td>CREDIT</td>\n",
       "      <td>...</td>\n",
       "      <td>2.0</td>\n",
       "      <td>0.0</td>\n",
       "      <td>8.1</td>\n",
       "      <td>00:09:57.468500</td>\n",
       "      <td>FRIDAY</td>\n",
       "      <td>11</td>\n",
       "      <td>19/10</td>\n",
       "      <td>19</td>\n",
       "      <td>10</td>\n",
       "      <td>2012</td>\n",
       "    </tr>\n",
       "    <tr>\n",
       "      <th>3000029</th>\n",
       "      <td>VTS</td>\n",
       "      <td>2012-10-22 17:19:23.547796+00:00</td>\n",
       "      <td>2012-10-22 17:29:50.335519+00:00</td>\n",
       "      <td>1</td>\n",
       "      <td>1.75</td>\n",
       "      <td>-74.000610</td>\n",
       "      <td>40.717268</td>\n",
       "      <td>-73.996682</td>\n",
       "      <td>40.734113</td>\n",
       "      <td>CASH</td>\n",
       "      <td>...</td>\n",
       "      <td>0.0</td>\n",
       "      <td>0.0</td>\n",
       "      <td>8.5</td>\n",
       "      <td>00:10:26.787723</td>\n",
       "      <td>MONDAY</td>\n",
       "      <td>17</td>\n",
       "      <td>22/10</td>\n",
       "      <td>22</td>\n",
       "      <td>10</td>\n",
       "      <td>2012</td>\n",
       "    </tr>\n",
       "    <tr>\n",
       "      <th>3000030</th>\n",
       "      <td>VTS</td>\n",
       "      <td>2012-10-03 22:59:36.384652+00:00</td>\n",
       "      <td>2012-10-03 23:12:04.900045+00:00</td>\n",
       "      <td>2</td>\n",
       "      <td>0.47</td>\n",
       "      <td>-73.966812</td>\n",
       "      <td>40.764003</td>\n",
       "      <td>-73.961073</td>\n",
       "      <td>40.766725</td>\n",
       "      <td>CASH</td>\n",
       "      <td>...</td>\n",
       "      <td>0.0</td>\n",
       "      <td>0.0</td>\n",
       "      <td>4.7</td>\n",
       "      <td>00:12:28.515393</td>\n",
       "      <td>WEDNESDAY</td>\n",
       "      <td>22</td>\n",
       "      <td>03/10</td>\n",
       "      <td>3</td>\n",
       "      <td>10</td>\n",
       "      <td>2012</td>\n",
       "    </tr>\n",
       "  </tbody>\n",
       "</table>\n",
       "<p>5 rows × 22 columns</p>\n",
       "</div>"
      ],
      "text/plain": [
       "        vendor_id                  pickup_datetime  \\\n",
       "3000009       VTS 2012-10-17 11:28:59.571708+00:00   \n",
       "3000011       VTS 2012-10-17 21:46:51.187166+00:00   \n",
       "3000027       VTS 2012-10-19 11:28:47.324903+00:00   \n",
       "3000029       VTS 2012-10-22 17:19:23.547796+00:00   \n",
       "3000030       VTS 2012-10-03 22:59:36.384652+00:00   \n",
       "\n",
       "                        dropoff_datetime  passenger_count  trip_distance  \\\n",
       "3000009 2012-10-17 11:43:49.819286+00:00                5           0.75   \n",
       "3000011 2012-10-17 21:52:24.351695+00:00                1           4.02   \n",
       "3000027 2012-10-19 11:38:44.793403+00:00                1           1.77   \n",
       "3000029 2012-10-22 17:29:50.335519+00:00                1           1.75   \n",
       "3000030 2012-10-03 23:12:04.900045+00:00                2           0.47   \n",
       "\n",
       "         pickup_longitude  pickup_latitude  dropoff_longitude  \\\n",
       "3000009        -74.001978        40.740683         -73.993722   \n",
       "3000011        -73.996177        40.686802         -73.990310   \n",
       "3000027        -73.953867        40.781828         -73.970007   \n",
       "3000029        -74.000610        40.717268         -73.996682   \n",
       "3000030        -73.966812        40.764003         -73.961073   \n",
       "\n",
       "         dropoff_latitude payment_type  ...  tip_amount  tolls_amount  \\\n",
       "3000009         40.747330         CASH  ...         0.0           0.0   \n",
       "3000011         40.731687       CREDIT  ...         2.0           0.0   \n",
       "3000027         40.759648       CREDIT  ...         2.0           0.0   \n",
       "3000029         40.734113         CASH  ...         0.0           0.0   \n",
       "3000030         40.766725         CASH  ...         0.0           0.0   \n",
       "\n",
       "         total_amount   trip_duration   day_name hour day_month  day month  \\\n",
       "3000009           3.7 00:14:50.247578  WEDNESDAY   11     17/10   17    10   \n",
       "3000011          14.2 00:05:33.164529  WEDNESDAY   21     17/10   17    10   \n",
       "3000027           8.1 00:09:57.468500     FRIDAY   11     19/10   19    10   \n",
       "3000029           8.5 00:10:26.787723     MONDAY   17     22/10   22    10   \n",
       "3000030           4.7 00:12:28.515393  WEDNESDAY   22     03/10    3    10   \n",
       "\n",
       "         year  \n",
       "3000009  2012  \n",
       "3000011  2012  \n",
       "3000027  2012  \n",
       "3000029  2012  \n",
       "3000030  2012  \n",
       "\n",
       "[5 rows x 22 columns]"
      ]
     },
     "execution_count": 49,
     "metadata": {},
     "output_type": "execute_result"
    }
   ],
   "source": [
    "df_tips.head()"
   ]
  },
  {
   "cell_type": "code",
   "execution_count": 50,
   "metadata": {},
   "outputs": [],
   "source": [
    "df_tips_amount = df_tips.groupby(['day_month']).agg({'tip_amount': ['count']})\n",
    "df_tips_amount.columns = ['tip_per_day']\n",
    "df_tips_amount = df_tips_amount.reset_index()"
   ]
  },
  {
   "cell_type": "code",
   "execution_count": 51,
   "metadata": {},
   "outputs": [
    {
     "name": "stdout",
     "output_type": "stream",
     "text": [
      "<class 'pandas.core.frame.DataFrame'>\n",
      "RangeIndex: 27 entries, 0 to 26\n",
      "Data columns (total 2 columns):\n",
      "day_month      27 non-null object\n",
      "tip_per_day    27 non-null int64\n",
      "dtypes: int64(1), object(1)\n",
      "memory usage: 560.0+ bytes\n"
     ]
    }
   ],
   "source": [
    "df_tips_amount.info()"
   ]
  },
  {
   "cell_type": "code",
   "execution_count": 52,
   "metadata": {},
   "outputs": [
    {
     "data": {
      "text/plain": [
       "(27, 2)"
      ]
     },
     "execution_count": 52,
     "metadata": {},
     "output_type": "execute_result"
    }
   ],
   "source": [
    "df_tips_amount.shape"
   ]
  },
  {
   "cell_type": "code",
   "execution_count": 53,
   "metadata": {},
   "outputs": [
    {
     "data": {
      "text/plain": [
       "Text(0, 0.5, 'Tips Number')"
      ]
     },
     "execution_count": 53,
     "metadata": {},
     "output_type": "execute_result"
    },
    {
     "data": {
      "image/png": "[encoded data removed]",
      "text/plain": [
       "<Figure size 1080x504 with 1 Axes>"
      ]
     },
     "metadata": {},
     "output_type": "display_data"
    }
   ],
   "source": [
    "plt.figure(figsize=(15,7))\n",
    "sns.set(style=\"darkgrid\")\n",
    "\n",
    "sns.lineplot(x=\"day_month\", y=\"tip_per_day\", color=\"coral\", data=df_tips_amount)\n",
    "plt.title(\"Number of tips each day\")\n",
    "plt.xlabel(\"Day/Month\")\n",
    "plt.xticks(rotation=45)\n",
    "plt.ylabel(\"Tips Number\")"
   ]
  },
  {
   "cell_type": "markdown",
   "metadata": {},
   "source": [
    "# **Bonus items**"
   ]
  },
  {
   "cell_type": "markdown",
   "metadata": {},
   "source": [
    "## What is the average trip time on Saturdays and Sundays;"
   ]
  },
  {
   "cell_type": "code",
   "execution_count": 54,
   "metadata": {},
   "outputs": [],
   "source": [
    "df_weekend_rides = taxi_trips[taxi_trips['day_name'].isin(['SATURDAY', 'SUNDAY'])]\n",
    "df_weekend_rides = df_weekend_rides.groupby('day_name')['trip_duration'].agg(lambda x: x.mean())\n",
    "df_weekend_rides.columns = ['trip_duration']\n",
    "df_weekend_rides = df_weekend_rides.reset_index()"
   ]
  },
  {
   "cell_type": "code",
   "execution_count": 55,
   "metadata": {},
   "outputs": [
    {
     "data": {
      "text/html": [
       "<div>\n",
       "<style scoped>\n",
       "    .dataframe tbody tr th:only-of-type {\n",
       "        vertical-align: middle;\n",
       "    }\n",
       "\n",
       "    .dataframe tbody tr th {\n",
       "        vertical-align: top;\n",
       "    }\n",
       "\n",
       "    .dataframe thead th {\n",
       "        text-align: right;\n",
       "    }\n",
       "</style>\n",
       "<table border=\"1\" class=\"dataframe\">\n",
       "  <thead>\n",
       "    <tr style=\"text-align: right;\">\n",
       "      <th></th>\n",
       "      <th>day_name</th>\n",
       "      <th>trip_duration</th>\n",
       "    </tr>\n",
       "  </thead>\n",
       "  <tbody>\n",
       "    <tr>\n",
       "      <th>0</th>\n",
       "      <td>SATURDAY</td>\n",
       "      <td>00:08:44.939775</td>\n",
       "    </tr>\n",
       "    <tr>\n",
       "      <th>1</th>\n",
       "      <td>SUNDAY</td>\n",
       "      <td>00:08:44.641298</td>\n",
       "    </tr>\n",
       "  </tbody>\n",
       "</table>\n",
       "</div>"
      ],
      "text/plain": [
       "   day_name   trip_duration\n",
       "0  SATURDAY 00:08:44.939775\n",
       "1    SUNDAY 00:08:44.641298"
      ]
     },
     "execution_count": 55,
     "metadata": {},
     "output_type": "execute_result"
    }
   ],
   "source": [
    "df_weekend_rides.head()"
   ]
  },
  {
   "cell_type": "code",
   "execution_count": 56,
   "metadata": {},
   "outputs": [
    {
     "data": {
      "text/plain": [
       "Text(0, 0.5, 'Trip Duration Average (h)')"
      ]
     },
     "execution_count": 56,
     "metadata": {},
     "output_type": "execute_result"
    },
    {
     "data": {
      "image/png": "[encoded data removed]",
      "text/plain": [
       "<Figure size 720x504 with 1 Axes>"
      ]
     },
     "metadata": {},
     "output_type": "display_data"
    }
   ],
   "source": [
    "plt.figure(figsize=(10,7))\n",
    "sns.set(style=\"whitegrid\")\n",
    "ax = sns.barplot(x=\"day_name\", y=\"trip_duration\", data=df_weekend_rides)\n",
    "plt.xlabel(\"Day\")\n",
    "plt.ylabel(\"Trip Duration Average (h)\")"
   ]
  }
 ],
 "metadata": {
  "kernelspec": {
   "display_name": "Python 3",
   "language": "python",
   "name": "python3"
  },
  "language_info": {
   "codemirror_mode": {
    "name": "ipython",
    "version": 3
   },
   "file_extension": ".py",
   "mimetype": "text/x-python",
   "name": "python",
   "nbconvert_exporter": "python",
   "pygments_lexer": "ipython3",
   "version": "3.7.3"
  }
 },
 "nbformat": 4,
 "nbformat_minor": 4
}
